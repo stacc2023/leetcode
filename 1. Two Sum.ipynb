{
 "cells": [
  {
   "cell_type": "code",
   "execution_count": null,
   "metadata": {},
   "outputs": [],
   "source": [
    "class Solution:\n",
    "    def twoSum(self, nums: List[int], target: int) -> List[int]:\n",
    "        for i in range(len(nums)) :\n",
    "            for j in range(len(nums[i+1:])) :\n",
    "                if nums[i] + nums[i + 1 + j] == target :\n",
    "                    return [i, i + 1 + j]"
   ]
  }
 ],
 "metadata": {
  "language_info": {
   "name": "python"
  }
 },
 "nbformat": 4,
 "nbformat_minor": 2
}
