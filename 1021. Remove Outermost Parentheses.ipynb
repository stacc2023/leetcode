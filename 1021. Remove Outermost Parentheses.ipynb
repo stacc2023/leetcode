{
 "cells": [
  {
   "cell_type": "code",
   "execution_count": null,
   "metadata": {},
   "outputs": [],
   "source": [
    "class Solution:\n",
    "    def removeOuterParentheses(self, s: str) -> str:\n",
    "        layer = 0\n",
    "        index = 0\n",
    "        stack = ['']\n",
    "        for c in s:\n",
    "            if c == '(':\n",
    "                if layer != 0:\n",
    "                    stack[index] += c\n",
    "                layer += 1\n",
    "            if c == ')':\n",
    "                layer -= 1\n",
    "                if layer != 0:\n",
    "                    stack[index] += c\n",
    "                else:\n",
    "                    index += 1\n",
    "                    stack.append('')\n",
    "        return ''.join(stack)"
   ]
  }
 ],
 "metadata": {
  "language_info": {
   "name": "python"
  }
 },
 "nbformat": 4,
 "nbformat_minor": 2
}
