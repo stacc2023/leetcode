{
 "cells": [
  {
   "cell_type": "code",
   "execution_count": null,
   "metadata": {},
   "outputs": [],
   "source": [
    "class Solution:\n",
    "    def allCellsDistOrder(self, rows: int, cols: int, rCenter: int, cCenter: int) -> List[List[int]]:\n",
    "        ans = []\n",
    "        for i in range(rows):\n",
    "            for j in range(cols):\n",
    "                ans.append([i,j])\n",
    "        ans.sort(key=lambda x: abs(x[0] - rCenter) + abs(x[1] - cCenter))\n",
    "        return ans"
   ]
  }
 ],
 "metadata": {
  "language_info": {
   "name": "python"
  }
 },
 "nbformat": 4,
 "nbformat_minor": 2
}
