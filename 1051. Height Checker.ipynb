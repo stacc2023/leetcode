{
 "cells": [
  {
   "cell_type": "code",
   "execution_count": null,
   "metadata": {},
   "outputs": [],
   "source": [
    "import numpy as np\n",
    "class Solution:\n",
    "    def heightChecker(self, heights: List[int]) -> int:\n",
    "        tmp1 = np.array(heights)\n",
    "        tmp2 = np.array(sorted(heights))\n",
    "        return len(tmp1) - list(tmp1 - tmp2).count(0)\n"
   ]
  }
 ],
 "metadata": {
  "language_info": {
   "name": "python"
  }
 },
 "nbformat": 4,
 "nbformat_minor": 2
}
