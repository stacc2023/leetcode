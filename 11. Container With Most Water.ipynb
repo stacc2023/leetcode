{
 "cells": [
  {
   "cell_type": "code",
   "execution_count": null,
   "metadata": {},
   "outputs": [],
   "source": [
    "def getMaxArea(i, j, height):\n",
    "    if i == j:\n",
    "        return 0\n",
    "    if height[i] > height[j]:\n",
    "        return max(getMaxArea(i, j-1, height), (j-i) * height[j])\n",
    "    else:\n",
    "        return max(getMaxArea(i+1,j, height), (j-i) * height[i])\n",
    "\n",
    "class Solution:\n",
    "    def maxArea(self, height: List[int]) -> int:\n",
    "        i, j = 0, len(height) - 1\n",
    "        return getMaxArea(i, j, height)"
   ]
  }
 ],
 "metadata": {
  "language_info": {
   "name": "python"
  }
 },
 "nbformat": 4,
 "nbformat_minor": 2
}
