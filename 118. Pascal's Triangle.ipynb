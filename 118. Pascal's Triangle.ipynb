{
 "cells": [
  {
   "cell_type": "code",
   "execution_count": null,
   "metadata": {},
   "outputs": [],
   "source": [
    "class Solution:\n",
    "    def generate(self, numRows: int) -> List[List[int]]:\n",
    "        ans = [[1]]\n",
    "        n = numRows\n",
    "\n",
    "        for i in range(n-1):\n",
    "            tmp = [0]\n",
    "            for index, n in enumerate(ans[i]):\n",
    "                tmp[index] = tmp[index] + n\n",
    "                tmp.append(n)\n",
    "            ans.append(tmp)\n",
    "        return ans"
   ]
  }
 ],
 "metadata": {
  "language_info": {
   "name": "python"
  }
 },
 "nbformat": 4,
 "nbformat_minor": 2
}
