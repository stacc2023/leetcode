{
 "cells": [
  {
   "cell_type": "code",
   "execution_count": null,
   "metadata": {},
   "outputs": [],
   "source": [
    "convert = {\n",
    "    0: \"\",\n",
    "    1: \"I\",\n",
    "    2: \"II\",\n",
    "    3: \"III\",\n",
    "    4: \"IV\",\n",
    "    5: \"V\",\n",
    "    6: \"VI\",\n",
    "    7: \"VII\",\n",
    "    8: \"VIII\",\n",
    "    9: \"IX\",\n",
    "    10: \"X\",\n",
    "    20: \"XX\",\n",
    "    30: \"XXX\",\n",
    "    40: \"XL\",\n",
    "    50: \"L\",\n",
    "    60: \"LX\",\n",
    "    70: \"LXX\",\n",
    "    80: \"LXXX\",\n",
    "    90: \"XC\",\n",
    "    100: \"C\",\n",
    "    200: \"CC\",\n",
    "    300: \"CCC\",\n",
    "    400: \"CD\",\n",
    "    500: \"D\",\n",
    "    600: \"DC\",\n",
    "    700: \"DCC\",\n",
    "    800: \"DCCC\",\n",
    "    900: \"CM\",\n",
    "    1000: \"M\",\n",
    "    2000: \"MM\",\n",
    "    3000: \"MMM\"\n",
    "}\n",
    "\n",
    "class Solution:\n",
    "    def intToRoman(self, num: int) -> str:\n",
    "        ans = \"\"\n",
    "        for i in range(3, -1, -1):\n",
    "            ans += convert[num // 10**i * 10**i]\n",
    "            num = num - num // 10**i * 10**i\n",
    "        return ans"
   ]
  }
 ],
 "metadata": {
  "language_info": {
   "name": "python"
  }
 },
 "nbformat": 4,
 "nbformat_minor": 2
}
