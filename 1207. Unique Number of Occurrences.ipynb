{
 "cells": [
  {
   "cell_type": "code",
   "execution_count": null,
   "metadata": {},
   "outputs": [],
   "source": [
    "class Solution:\n",
    "    def uniqueOccurrences(self, arr: List[int]) -> bool:\n",
    "        lst = []\n",
    "        for i in list(set(arr)):\n",
    "            cnt = arr.count(i)\n",
    "            if cnt in lst:\n",
    "                return False\n",
    "            lst.append(cnt)\n",
    "        return True"
   ]
  }
 ],
 "metadata": {
  "language_info": {
   "name": "python"
  }
 },
 "nbformat": 4,
 "nbformat_minor": 2
}
