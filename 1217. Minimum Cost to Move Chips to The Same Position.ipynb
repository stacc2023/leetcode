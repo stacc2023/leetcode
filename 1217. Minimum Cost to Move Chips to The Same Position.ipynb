{
 "cells": [
  {
   "cell_type": "code",
   "execution_count": null,
   "metadata": {},
   "outputs": [],
   "source": [
    "class Solution:\n",
    "    def minCostToMoveChips(self, position: List[int]) -> int:\n",
    "        dic = defaultdict(int)\n",
    "        for n in position:\n",
    "            dic[n] += 1\n",
    "        odd = 0\n",
    "        even = 0\n",
    "        for key, value in dic.items():\n",
    "            if key % 2:\n",
    "                odd += value\n",
    "            else:\n",
    "                even += value\n",
    "        return min(odd, even)"
   ]
  }
 ],
 "metadata": {
  "language_info": {
   "name": "python"
  }
 },
 "nbformat": 4,
 "nbformat_minor": 2
}
