{
 "cells": [
  {
   "cell_type": "code",
   "execution_count": null,
   "metadata": {},
   "outputs": [],
   "source": [
    "class Solution:\n",
    "    def balancedStringSplit(self, s: str) -> int:\n",
    "        count = 0\n",
    "        pre = None\n",
    "        cnt = 0\n",
    "        for n in s:\n",
    "            if cnt == 0:\n",
    "                count += 1\n",
    "            if n == 'L':\n",
    "                cnt -= 1\n",
    "            if n == 'R':\n",
    "                cnt += 1\n",
    "        return count"
   ]
  }
 ],
 "metadata": {
  "language_info": {
   "name": "python"
  }
 },
 "nbformat": 4,
 "nbformat_minor": 2
}
