{
 "cells": [
  {
   "cell_type": "code",
   "execution_count": null,
   "metadata": {},
   "outputs": [],
   "source": [
    "class Solution:\n",
    "    def oddCells(self, m: int, n: int, indices: List[List[int]]) -> int:\n",
    "        row = [0] * m\n",
    "        col = [0] * n\n",
    "        for r,c in indices:\n",
    "            row[r] += 1\n",
    "            col[c] += 1\n",
    "        num_odd_rows = sum(r % 2 for r in row)\n",
    "        num_odd_cols = sum(c % 2 for c in col)\n",
    "\n",
    "        return num_odd_rows * n + num_odd_cols * m - 2 * num_odd_rows * num_odd_cols\n",
    "\n",
    "        \n",
    "\n",
    "\n",
    "        return ans\n",
    "            "
   ]
  }
 ],
 "metadata": {
  "language_info": {
   "name": "python"
  }
 },
 "nbformat": 4,
 "nbformat_minor": 2
}
