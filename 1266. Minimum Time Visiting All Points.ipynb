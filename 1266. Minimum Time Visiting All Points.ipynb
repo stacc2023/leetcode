{
 "cells": [
  {
   "cell_type": "code",
   "execution_count": null,
   "metadata": {},
   "outputs": [],
   "source": [
    "class Solution:\n",
    "    def minTimeToVisitAllPoints(self, points: List[List[int]]) -> int:\n",
    "        ans = 0\n",
    "        for i in range(1, len(points)):\n",
    "            x = abs(points[i][0] - points[i-1][0])\n",
    "            y = abs(points[i][1] - points[i-1][1])\n",
    "            ans += max(x,y)\n",
    "        return ans            "
   ]
  }
 ],
 "metadata": {
  "language_info": {
   "name": "python"
  }
 },
 "nbformat": 4,
 "nbformat_minor": 2
}
