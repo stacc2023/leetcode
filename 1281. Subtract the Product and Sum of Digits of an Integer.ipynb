{
 "cells": [
  {
   "cell_type": "code",
   "execution_count": null,
   "metadata": {},
   "outputs": [],
   "source": [
    "class Solution:\n",
    "    def subtractProductAndSum(self, n: int) -> int:\n",
    "        tmp = [*str(n)]\n",
    "        sum_digits = sum([int(n) for n in tmp])\n",
    "        product_digits = 1\n",
    "        for n in tmp:\n",
    "            product_digits *= int(n)\n",
    "        return product_digits - sum_digits"
   ]
  }
 ],
 "metadata": {
  "language_info": {
   "name": "python"
  }
 },
 "nbformat": 4,
 "nbformat_minor": 2
}
