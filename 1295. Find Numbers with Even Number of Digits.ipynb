{
 "cells": [
  {
   "cell_type": "code",
   "execution_count": null,
   "metadata": {},
   "outputs": [],
   "source": [
    "class Solution:\n",
    "    def findNumbers(self, nums: List[int]) -> int:\n",
    "        cnt = 0\n",
    "        for n in nums:\n",
    "            if len(str(n)) % 2 == 0:\n",
    "                cnt += 1\n",
    "        return cnt"
   ]
  }
 ],
 "metadata": {
  "language_info": {
   "name": "python"
  }
 },
 "nbformat": 4,
 "nbformat_minor": 2
}
