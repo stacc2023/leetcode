{
 "cells": [
  {
   "cell_type": "code",
   "execution_count": null,
   "metadata": {},
   "outputs": [],
   "source": [
    "convert = {\n",
    "    \"I\": 1,\n",
    "    \"V\": 5,\n",
    "    \"X\": 10,\n",
    "    \"L\": 50,\n",
    "    \"C\": 100,\n",
    "    \"D\": 500,\n",
    "    \"M\": 1000,\n",
    "}\n",
    "\n",
    "class Solution:\n",
    "    def romanToInt(self, s: str) -> int:\n",
    "        s = [*s]\n",
    "        ans = 0\n",
    "        while len(s):\n",
    "            c = s.pop()\n",
    "            if c == \"I\" and ans >= 5:\n",
    "                ans -= 1\n",
    "            elif c == \"X\" and ans >= 50:\n",
    "                ans -= 10\n",
    "            elif c == \"C\" and ans >= 500:\n",
    "                ans -= 100\n",
    "            else:\n",
    "                ans += convert[c]\n",
    "        return ans"
   ]
  }
 ],
 "metadata": {
  "language_info": {
   "name": "python"
  }
 },
 "nbformat": 4,
 "nbformat_minor": 2
}
