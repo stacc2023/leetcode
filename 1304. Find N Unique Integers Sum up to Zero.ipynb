{
 "cells": [
  {
   "cell_type": "code",
   "execution_count": null,
   "metadata": {},
   "outputs": [],
   "source": [
    "class Solution:\n",
    "    def sumZero(self, n: int) -> List[int]:\n",
    "        if n % 2:\n",
    "            return [*range(-(n//2),n//2+1)]\n",
    "        else:\n",
    "            return [*range(-(n//2),0)] + [*range(1, (n//2)+1)]\n",
    "\n",
    "            #5 // 2 = 2\n",
    "            # -2 -1 0 1 2\n",
    "            #4 // 2 = 2\n",
    "            # -2 -1 1 2"
   ]
  }
 ],
 "metadata": {
  "language_info": {
   "name": "python"
  }
 },
 "nbformat": 4,
 "nbformat_minor": 2
}
