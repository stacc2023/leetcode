{
 "cells": [
  {
   "cell_type": "code",
   "execution_count": null,
   "metadata": {},
   "outputs": [],
   "source": [
    "class Solution:\n",
    "    def freqAlphabets(self, s: str) -> str:\n",
    "        ans = []\n",
    "        i = len(s) - 1\n",
    "        while i>-1:\n",
    "            if s[i] == '#':\n",
    "                ans.append(s[i-2:i])\n",
    "                i = i - 3\n",
    "            else:\n",
    "                ans.append(s[i])\n",
    "                i = i - 1\n",
    "        return ''.join(chr(int(c)+ord('a')-1) for c in ans[::-1])"
   ]
  }
 ],
 "metadata": {
  "language_info": {
   "name": "python"
  }
 },
 "nbformat": 4,
 "nbformat_minor": 2
}
