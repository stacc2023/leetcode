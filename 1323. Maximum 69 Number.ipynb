{
 "cells": [
  {
   "cell_type": "code",
   "execution_count": null,
   "metadata": {},
   "outputs": [],
   "source": [
    "class Solution:\n",
    "    def maximum69Number (self, num: int) -> int:\n",
    "        index_6 = str(num).find('6')\n",
    "        if index_6 == -1:\n",
    "            return num\n",
    "        return num + 3*10**(len(str(num)) - index_6 - 1)\n"
   ]
  }
 ],
 "metadata": {
  "language_info": {
   "name": "python"
  }
 },
 "nbformat": 4,
 "nbformat_minor": 2
}
