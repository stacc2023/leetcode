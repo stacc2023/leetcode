{
 "cells": [
  {
   "cell_type": "code",
   "execution_count": null,
   "metadata": {},
   "outputs": [],
   "source": [
    "class Solution:\n",
    "    def sortString(self, s: str) -> str:\n",
    "        dic = defaultdict(int)\n",
    "        for n in list(set(s)):\n",
    "            dic[n] = s.count(n)\n",
    "        ans = ''\n",
    "        sign = True\n",
    "        while len(ans) < len(s):\n",
    "            c = ''\n",
    "            for key, cnt in sorted(dic.items(), key=lambda x: x[0]):\n",
    "                if cnt:\n",
    "                    c += key\n",
    "                    dic[key] = cnt - 1\n",
    "            if sign:\n",
    "                ans += c\n",
    "                sign = False\n",
    "            else:\n",
    "                ans += c[::-1]\n",
    "                sign = True\n",
    "        return ans"
   ]
  }
 ],
 "metadata": {
  "language_info": {
   "name": "python"
  }
 },
 "nbformat": 4,
 "nbformat_minor": 2
}
