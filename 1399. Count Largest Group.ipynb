{
 "cells": [
  {
   "cell_type": "code",
   "execution_count": null,
   "metadata": {},
   "outputs": [],
   "source": [
    "class Solution:\n",
    "    def countLargestGroup(self, n: int) -> int:\n",
    "        dic = defaultdict(int)\n",
    "        for i in range(1, n + 1):\n",
    "            dic[sum(int(c) for c in str(i))] += 1\n",
    "        return list(dic.values()).count(max(dic.values()))\n",
    "    "
   ]
  }
 ],
 "metadata": {
  "language_info": {
   "name": "python"
  }
 },
 "nbformat": 4,
 "nbformat_minor": 2
}
