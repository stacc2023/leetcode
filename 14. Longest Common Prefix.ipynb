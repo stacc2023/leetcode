{
 "cells": [
  {
   "cell_type": "code",
   "execution_count": null,
   "metadata": {},
   "outputs": [],
   "source": [
    "class Solution:\n",
    "    def longestCommonPrefix(self, strs: List[str]) -> str:\n",
    "        for i in range(len(strs[0])):\n",
    "            for w in strs:\n",
    "                if i < len(w) and w[i] == strs[0][i]:\n",
    "                    continue\n",
    "                return strs[0][0:i]\n",
    "        return strs[0]"
   ]
  }
 ],
 "metadata": {
  "language_info": {
   "name": "python"
  }
 },
 "nbformat": 4,
 "nbformat_minor": 2
}
