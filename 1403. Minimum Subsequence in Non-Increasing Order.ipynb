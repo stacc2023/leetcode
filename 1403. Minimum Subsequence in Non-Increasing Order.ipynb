{
 "cells": [
  {
   "cell_type": "code",
   "execution_count": null,
   "metadata": {},
   "outputs": [],
   "source": [
    "class Solution:\n",
    "    def minSubsequence(self, nums: List[int]) -> List[int]:\n",
    "        nums.sort(reverse=True)\n",
    "        for i in range(len(nums)):\n",
    "            if sum(nums[:i+1]) > sum(nums[i+1:]):\n",
    "                return nums[:i+1]"
   ]
  }
 ],
 "metadata": {
  "language_info": {
   "name": "python"
  }
 },
 "nbformat": 4,
 "nbformat_minor": 2
}
