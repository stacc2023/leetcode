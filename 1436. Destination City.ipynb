{
 "cells": [
  {
   "cell_type": "code",
   "execution_count": null,
   "metadata": {},
   "outputs": [],
   "source": [
    "class Solution:\n",
    "    def destCity(self, paths: List[List[str]]) -> str:\n",
    "        for i in range(len(paths)):\n",
    "            notexist = True\n",
    "            for j in range(len(paths)):\n",
    "                if paths[i][1] == paths[j][0]:\n",
    "                    notexist = False\n",
    "                    break\n",
    "            if notexist:\n",
    "                return paths[i][1]"
   ]
  }
 ],
 "metadata": {
  "language_info": {
   "name": "python"
  }
 },
 "nbformat": 4,
 "nbformat_minor": 2
}
