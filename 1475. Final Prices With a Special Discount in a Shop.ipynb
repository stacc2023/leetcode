{
 "cells": [
  {
   "cell_type": "code",
   "execution_count": null,
   "metadata": {},
   "outputs": [],
   "source": [
    "class Solution:\n",
    "    def finalPrices(self, prices: List[int]) -> List[int]:\n",
    "        ans = []\n",
    "        for i in range(len(prices)):\n",
    "            flag = True\n",
    "            for j in range(i+1, len(prices)):\n",
    "                if prices[j] <= prices[i]: \n",
    "                    ans.append(prices[i] - prices[j])\n",
    "                    flag = False\n",
    "                    break\n",
    "            if flag:\n",
    "                ans.append(prices[i])\n",
    "        return ans"
   ]
  }
 ],
 "metadata": {
  "language_info": {
   "name": "python"
  }
 },
 "nbformat": 4,
 "nbformat_minor": 2
}
