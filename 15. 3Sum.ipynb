{
 "cells": [
  {
   "cell_type": "code",
   "execution_count": null,
   "metadata": {},
   "outputs": [],
   "source": [
    "class Solution:\n",
    "    def threeSum(self, nums: List[int]) -> List[List[int]]:\n",
    "        ans = set()\n",
    "        dic = {}\n",
    "\n",
    "        for i in nums:\n",
    "            if i in dic:\n",
    "                dic[i] += 1\n",
    "            else:\n",
    "                dic[i] = 1\n",
    "        \n",
    "        nums = sorted(dic.keys())\n",
    "\n",
    "        if 0 in nums and dic[0] > 2 :\n",
    "            ans.add('0,0,0')\n",
    "\n",
    "        for i in range(len(nums)):\n",
    "            for j in range(i + 1, len(nums)):\n",
    "\n",
    "                dic[nums[i]] -= 1\n",
    "                dic[nums[j]] -= 1\n",
    "\n",
    "                if -(nums[i] + nums[j]) in dic and dic[-(nums[i] + nums[j])] > 0:\n",
    "                    tmp = ','.join([str(i) for i in sorted([nums[i], nums[j], -(nums[i] + nums[j])])])\n",
    "                    if tmp not in ans:\n",
    "                        ans.add(tmp)\n",
    "\n",
    "                dic[nums[i]] += 1\n",
    "                dic[nums[j]] += 1\n",
    "        return [[int(w) for w in c.split(',')] for c in list(ans)]"
   ]
  }
 ],
 "metadata": {
  "language_info": {
   "name": "python"
  }
 },
 "nbformat": 4,
 "nbformat_minor": 2
}
