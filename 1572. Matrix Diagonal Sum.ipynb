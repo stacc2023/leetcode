{
 "cells": [
  {
   "cell_type": "code",
   "execution_count": null,
   "metadata": {},
   "outputs": [],
   "source": [
    "class Solution:\n",
    "    def diagonalSum(self, mat: List[List[int]]) -> int:\n",
    "        ans = sum(mat[i][i] + mat[i][len(mat) - 1 - i]for i in range(len(mat)))\n",
    "        if len(mat) % 2:\n",
    "            ans -= mat[len(mat) // 2][len(mat) // 2]\n",
    "        return ans\n",
    "            "
   ]
  }
 ],
 "metadata": {
  "language_info": {
   "name": "python"
  }
 },
 "nbformat": 4,
 "nbformat_minor": 2
}
