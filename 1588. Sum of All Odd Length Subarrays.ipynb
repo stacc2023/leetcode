{
 "cells": [
  {
   "cell_type": "code",
   "execution_count": null,
   "metadata": {},
   "outputs": [],
   "source": [
    "class Solution:\n",
    "    def sumOddLengthSubarrays(self, arr: List[int]) -> int:\n",
    "        ans = 0\n",
    "        for i in range(1, len(arr)+1, 2):\n",
    "            for j in range(len(arr) - i + 1):\n",
    "                ans += sum(arr[j:j+i])\n",
    "        return ans"
   ]
  }
 ],
 "metadata": {
  "language_info": {
   "name": "python"
  }
 },
 "nbformat": 4,
 "nbformat_minor": 2
}
