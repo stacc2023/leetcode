{
 "cells": [
  {
   "cell_type": "code",
   "execution_count": null,
   "metadata": {},
   "outputs": [],
   "source": [
    "class Solution:\n",
    "    def threeSumClosest(self, nums: List[int], target: int) -> int:\n",
    "        ans = 100000\n",
    "        nums = sorted(nums)\n",
    "        for i in range(len(nums)):\n",
    "            j = i + 1\n",
    "            k = len(nums) - 1\n",
    "            while j < k:\n",
    "                tmp = nums[i] + nums[j] + nums[k]\n",
    "                if abs(target - ans) > abs(target - tmp):\n",
    "                    ans = tmp\n",
    "                if target == tmp:\n",
    "                    return tmp\n",
    "                if target < tmp:\n",
    "                    k -= 1\n",
    "                if target > tmp:\n",
    "                    j += 1\n",
    "        return ans"
   ]
  }
 ],
 "metadata": {
  "language_info": {
   "name": "python"
  }
 },
 "nbformat": 4,
 "nbformat_minor": 2
}
