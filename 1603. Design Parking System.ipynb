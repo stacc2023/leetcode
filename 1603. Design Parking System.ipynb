{
 "cells": [
  {
   "cell_type": "code",
   "execution_count": null,
   "metadata": {},
   "outputs": [],
   "source": [
    "class ParkingSystem:\n",
    "\n",
    "    def __init__(self, big: int, medium: int, small: int):\n",
    "        self.big = big\n",
    "        self.medium = medium\n",
    "        self.small = small\n",
    "\n",
    "    def addCar(self, carType: int) -> bool:\n",
    "        if carType == 1 and self.big:\n",
    "            self.big -= 1\n",
    "            return True\n",
    "        if carType == 2 and self.medium:\n",
    "            self.medium -= 1\n",
    "            return True\n",
    "        if carType == 3 and self.small:\n",
    "            self.small -= 1\n",
    "            return True\n",
    "        return False\n",
    "\n",
    "# Your ParkingSystem object will be instantiated and called as such:\n",
    "# obj = ParkingSystem(big, medium, small)\n",
    "# param_1 = obj.addCar(carType)"
   ]
  }
 ],
 "metadata": {
  "language_info": {
   "name": "python"
  }
 },
 "nbformat": 4,
 "nbformat_minor": 2
}
