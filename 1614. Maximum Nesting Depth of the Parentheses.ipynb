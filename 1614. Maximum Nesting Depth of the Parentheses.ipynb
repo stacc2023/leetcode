{
 "cells": [
  {
   "cell_type": "code",
   "execution_count": null,
   "metadata": {},
   "outputs": [],
   "source": [
    "class Solution:\n",
    "    def maxDepth(self, s: str) -> int:\n",
    "        stack = []\n",
    "        ans = 0\n",
    "        for c in s:\n",
    "            if c == '(':\n",
    "                stack.append(c)\n",
    "                ans = max(ans, len(stack))\n",
    "            if c == ')':\n",
    "                stack.pop()\n",
    "        return ans"
   ]
  }
 ],
 "metadata": {
  "language_info": {
   "name": "python"
  }
 },
 "nbformat": 4,
 "nbformat_minor": 2
}
