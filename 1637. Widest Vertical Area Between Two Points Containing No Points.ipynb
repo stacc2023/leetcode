{
 "cells": [
  {
   "cell_type": "code",
   "execution_count": null,
   "metadata": {},
   "outputs": [],
   "source": [
    "class Solution:\n",
    "    def maxWidthOfVerticalArea(self, points: List[List[int]]) -> int:\n",
    "        tmp = sorted([x for x,y in points])\n",
    "        return max(abs(tmp[i-1] - tmp[i]) for i in range(1, len(tmp)))\n",
    "            \n",
    "        "
   ]
  }
 ],
 "metadata": {
  "language_info": {
   "name": "python"
  }
 },
 "nbformat": 4,
 "nbformat_minor": 2
}
