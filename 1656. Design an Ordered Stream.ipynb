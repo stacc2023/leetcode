{
 "cells": [
  {
   "cell_type": "code",
   "execution_count": null,
   "metadata": {},
   "outputs": [],
   "source": [
    "class OrderedStream:\n",
    "\n",
    "    def __init__(self, n: int):\n",
    "        self.ans = [0] * n\n",
    "        self.ptr = 0\n",
    "\n",
    "    def insert(self, idKey: int, value: str) -> List[str]:\n",
    "        result = []\n",
    "        self.ans[idKey-1] = value\n",
    "        while self.ptr < len(self.ans) and self.ans[self.ptr]:\n",
    "            result.append(self.ans[self.ptr])\n",
    "            self.ptr += 1\n",
    "        return result\n",
    "\n",
    "\n",
    "# Your OrderedStream object will be instantiated and called as such:\n",
    "# obj = OrderedStream(n)\n",
    "# param_1 = obj.insert(idKey,value)"
   ]
  }
 ],
 "metadata": {
  "language_info": {
   "name": "python"
  }
 },
 "nbformat": 4,
 "nbformat_minor": 2
}
