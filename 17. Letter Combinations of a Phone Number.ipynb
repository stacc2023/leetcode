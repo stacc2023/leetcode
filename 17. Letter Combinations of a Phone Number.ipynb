{
 "cells": [
  {
   "cell_type": "code",
   "execution_count": null,
   "metadata": {},
   "outputs": [],
   "source": [
    "dic = {\n",
    "    '2': 'abc',\n",
    "    '3': 'def',\n",
    "    '4': 'ghi',\n",
    "    '5': 'jkl',\n",
    "    '6': 'mno',\n",
    "    '7': 'pqrs',\n",
    "    '8': 'tuv',\n",
    "    '9': 'wxyz'\n",
    "}\n",
    "\n",
    "def com(ans, n, index, digits):\n",
    "    if index == len(digits):\n",
    "        ans.append(n)\n",
    "        return\n",
    "    for m in dic[digits[index]]:\n",
    "        com(ans, n + m, index + 1, digits)\n",
    "\n",
    "class Solution:\n",
    "    def letterCombinations(self, digits: str) -> List[str]:\n",
    "        ans = []\n",
    "        index = 0\n",
    "        if len(digits) == 0:\n",
    "            return ans\n",
    "        for n in dic[digits[index]]:\n",
    "            com(ans, n, index + 1, digits)\n",
    "        return ans"
   ]
  }
 ],
 "metadata": {
  "language_info": {
   "name": "python"
  }
 },
 "nbformat": 4,
 "nbformat_minor": 2
}
