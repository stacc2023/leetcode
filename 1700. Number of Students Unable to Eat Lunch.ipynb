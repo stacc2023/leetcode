{
 "cells": [
  {
   "cell_type": "code",
   "execution_count": null,
   "metadata": {},
   "outputs": [],
   "source": [
    "class Solution:\n",
    "    def countStudents(self, students: List[int], sandwiches: List[int]) -> int:\n",
    "        while len(sandwiches) != 0:\n",
    "            if students[0] == sandwiches[0]:\n",
    "                students = students[1:]\n",
    "                sandwiches = sandwiches[1:]\n",
    "            else:\n",
    "                if students.count(0) == 0 or students.count(1) == 0:\n",
    "                    break\n",
    "                students = students[1:] + [students[0]]\n",
    "\n",
    "        return len(students)"
   ]
  }
 ],
 "metadata": {
  "language_info": {
   "name": "python"
  }
 },
 "nbformat": 4,
 "nbformat_minor": 2
}
