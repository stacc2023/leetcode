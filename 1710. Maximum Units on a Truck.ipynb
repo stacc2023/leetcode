{
 "cells": [
  {
   "cell_type": "code",
   "execution_count": null,
   "metadata": {},
   "outputs": [],
   "source": [
    "class Solution:\n",
    "    def maximumUnits(self, boxTypes: List[List[int]], truckSize: int) -> int:\n",
    "        boxTypes.sort(key= lambda x: -x[1])\n",
    "        ans = 0\n",
    "        for boxes in boxTypes:\n",
    "            if truckSize >= boxes[0]:\n",
    "                ans += boxes[0] * boxes[1]\n",
    "                truckSize = truckSize - boxes[0]\n",
    "            else:\n",
    "                ans += truckSize * boxes[1]\n",
    "                break\n",
    "        return ans"
   ]
  }
 ],
 "metadata": {
  "language_info": {
   "name": "python"
  }
 },
 "nbformat": 4,
 "nbformat_minor": 2
}
