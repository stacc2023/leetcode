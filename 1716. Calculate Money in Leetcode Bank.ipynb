{
 "cells": [
  {
   "cell_type": "code",
   "execution_count": null,
   "metadata": {},
   "outputs": [],
   "source": [
    "class Solution:\n",
    "    def totalMoney(self, n: int) -> int:\n",
    "        q = n // 7\n",
    "        r = n % 7\n",
    "        return int(28 * q + 7* q * (q-1) / 2 + q * r + r * (r+1) / 2)\n"
   ]
  }
 ],
 "metadata": {
  "language_info": {
   "name": "python"
  }
 },
 "nbformat": 4,
 "nbformat_minor": 2
}
