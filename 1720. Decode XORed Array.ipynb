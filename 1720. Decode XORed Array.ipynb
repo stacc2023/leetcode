{
 "cells": [
  {
   "cell_type": "code",
   "execution_count": null,
   "metadata": {},
   "outputs": [],
   "source": [
    "class Solution:\n",
    "    def decode(self, encoded: List[int], first: int) -> List[int]:\n",
    "        ans = [first]\n",
    "        for i in encoded:\n",
    "            ans.append(ans[-1] ^ i)\n",
    "        return ans"
   ]
  }
 ],
 "metadata": {
  "language_info": {
   "name": "python"
  }
 },
 "nbformat": 4,
 "nbformat_minor": 2
}
