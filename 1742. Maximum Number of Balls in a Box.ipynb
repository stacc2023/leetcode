{
 "cells": [
  {
   "cell_type": "code",
   "execution_count": null,
   "metadata": {},
   "outputs": [],
   "source": [
    "class Solution:\n",
    "    def countBalls(self, lowLimit: int, highLimit: int) -> int:\n",
    "        dic = defaultdict(int)\n",
    "        for n in range(lowLimit, highLimit + 1):\n",
    "            sum_digits = sum(int(c) for c in str(n))\n",
    "            dic[sum_digits] += 1\n",
    "        return max(dic.values())"
   ]
  }
 ],
 "metadata": {
  "language_info": {
   "name": "python"
  }
 },
 "nbformat": 4,
 "nbformat_minor": 2
}
