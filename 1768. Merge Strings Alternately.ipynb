{
 "cells": [
  {
   "cell_type": "code",
   "execution_count": null,
   "metadata": {},
   "outputs": [],
   "source": [
    "class Solution:\n",
    "    def mergeAlternately(self, word1: str, word2: str) -> str:\n",
    "        ans = []\n",
    "        for i in range(min(len(word1), len(word2))):\n",
    "            ans.append(word1[i])\n",
    "            ans.append(word2[i])\n",
    "        return ''.join(ans) + word1[i+1:] + word2[i+1:]"
   ]
  }
 ],
 "metadata": {
  "language_info": {
   "name": "python"
  }
 },
 "nbformat": 4,
 "nbformat_minor": 2
}
