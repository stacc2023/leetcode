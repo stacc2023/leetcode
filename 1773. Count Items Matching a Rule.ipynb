{
 "cells": [
  {
   "cell_type": "code",
   "execution_count": null,
   "metadata": {},
   "outputs": [],
   "source": [
    "class Solution:\n",
    "    def countMatches(self, items: List[List[str]], ruleKey: str, ruleValue: str) -> int:\n",
    "        types = {\n",
    "            \"type\": 0,\n",
    "            \"color\": 1,\n",
    "            \"name\": 2,\n",
    "        }\n",
    "        count = 0\n",
    "        for item in items:\n",
    "            if item[types[ruleKey]] == ruleValue:\n",
    "                count += 1\n",
    "        return count"
   ]
  }
 ],
 "metadata": {
  "language_info": {
   "name": "python"
  }
 },
 "nbformat": 4,
 "nbformat_minor": 2
}
