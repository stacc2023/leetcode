{
 "cells": [
  {
   "cell_type": "code",
   "execution_count": null,
   "metadata": {},
   "outputs": [],
   "source": [
    "class Solution:\n",
    "    def fourSum(self, nums: List[int], target: int) -> List[List[int]]:\n",
    "        dic = defaultdict(int)\n",
    "        for i in nums:\n",
    "            dic[i] += 1\n",
    "\n",
    "        nums = sorted(set(nums))\n",
    "        n = len(nums)\n",
    "\n",
    "        ans = []\n",
    "        for a in range(n):\n",
    "            for b in range(a, n):\n",
    "                for c in range(b, n):\n",
    "                    abc = nums[a] + nums[b] + nums[c]\n",
    "                    error = target-abc\n",
    "                    if error >= nums[c] and error in dic:\n",
    "                        tmp = [nums[a], nums[b], nums[c], error]\n",
    "                        flag = True\n",
    "                        for c in tmp:\n",
    "                            if tmp.count(c) > dic[c]:\n",
    "                                flag = False\n",
    "                                break\n",
    "                        if flag:\n",
    "                            ans.append(tmp)\n",
    "        return ans"
   ]
  }
 ],
 "metadata": {
  "language_info": {
   "name": "python"
  }
 },
 "nbformat": 4,
 "nbformat_minor": 2
}
