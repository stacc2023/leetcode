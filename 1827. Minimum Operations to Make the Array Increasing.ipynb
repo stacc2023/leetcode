{
 "cells": [
  {
   "cell_type": "code",
   "execution_count": null,
   "metadata": {},
   "outputs": [],
   "source": [
    "class Solution:\n",
    "    def minOperations(self, nums: List[int]) -> int:\n",
    "        count = 0\n",
    "        for i in range(1, len(nums)):\n",
    "            diff = nums[i-1] - nums[i]\n",
    "            if diff >= 0:\n",
    "                nums[i] += diff + 1\n",
    "                count += diff + 1\n",
    "        return count"
   ]
  }
 ],
 "metadata": {
  "language_info": {
   "name": "python"
  }
 },
 "nbformat": 4,
 "nbformat_minor": 2
}
