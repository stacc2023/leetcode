{
 "cells": [
  {
   "cell_type": "code",
   "execution_count": null,
   "metadata": {},
   "outputs": [],
   "source": [
    "def tmp(i, nums):\n",
    "    ans = 0\n",
    "    for j in range(i, len(nums)):\n",
    "        subset = nums[:j] + nums[j+1:]\n",
    "        if len(subset):\n",
    "            ans += tmp(j, subset)\n",
    "    xor = 0\n",
    "    for i in nums:\n",
    "        xor ^= i\n",
    "    return ans + xor\n",
    "\n",
    "class Solution:\n",
    "    def subsetXORSum(self, nums: List[int]) -> int:\n",
    "        return tmp(0, nums)"
   ]
  }
 ],
 "metadata": {
  "language_info": {
   "name": "python"
  }
 },
 "nbformat": 4,
 "nbformat_minor": 2
}
