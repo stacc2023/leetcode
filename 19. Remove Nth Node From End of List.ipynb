{
 "cells": [
  {
   "cell_type": "code",
   "execution_count": null,
   "metadata": {},
   "outputs": [],
   "source": [
    "# Definition for singly-linked list.\n",
    "# class ListNode:\n",
    "#     def __init__(self, val=0, next=None):\n",
    "#         self.val = val\n",
    "#         self.next = next\n",
    "class Solution:\n",
    "    def removeNthFromEnd(self, head: Optional[ListNode], n: int) -> Optional[ListNode]:\n",
    "        tmp = []\n",
    "        node = head\n",
    "        while node:\n",
    "            tmp.append(node)\n",
    "            node = node.next\n",
    "        \n",
    "        n = len(tmp) - n\n",
    "        if n == 0:\n",
    "            return head.next\n",
    "        elif n == len(tmp) - 1:\n",
    "            if tmp[-2]:\n",
    "                tmp[-2].next = None\n",
    "        else:\n",
    "            tmp[n-1].next = tmp[n+1]\n",
    "\n",
    "        return head\n",
    "\n",
    "# better solution: use two pass"
   ]
  }
 ],
 "metadata": {
  "language_info": {
   "name": "python"
  }
 },
 "nbformat": 4,
 "nbformat_minor": 2
}
