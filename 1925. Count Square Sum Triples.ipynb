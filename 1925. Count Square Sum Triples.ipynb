{
 "cells": [
  {
   "cell_type": "code",
   "execution_count": null,
   "metadata": {},
   "outputs": [],
   "source": [
    "class Solution:\n",
    "    def countTriples(self, n: int) -> int:\n",
    "        count = 0\n",
    "        for a in range(1, n+1):\n",
    "            for b in range(1, n+1):\n",
    "                c2 = a**2 + b**2\n",
    "                if c2 > n**2:\n",
    "                    break\n",
    "                if int(math.sqrt(c2))**2 == c2:\n",
    "                    count += 1\n",
    "        return count"
   ]
  }
 ],
 "metadata": {
  "language_info": {
   "name": "python"
  }
 },
 "nbformat": 4,
 "nbformat_minor": 2
}
