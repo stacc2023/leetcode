{
 "cells": [
  {
   "cell_type": "code",
   "execution_count": null,
   "metadata": {},
   "outputs": [],
   "source": [
    "class Solution:\n",
    "    def areOccurrencesEqual(self, s: str) -> bool:\n",
    "        cnt = s.count(s[0])\n",
    "        for n in list(set(s)):\n",
    "            if s.count(n) != cnt:\n",
    "                return False\n",
    "        return True\n"
   ]
  }
 ],
 "metadata": {
  "language_info": {
   "name": "python"
  }
 },
 "nbformat": 4,
 "nbformat_minor": 2
}
