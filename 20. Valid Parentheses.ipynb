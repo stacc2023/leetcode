{
 "cells": [
  {
   "cell_type": "code",
   "execution_count": null,
   "metadata": {},
   "outputs": [],
   "source": [
    "class Solution:\n",
    "    def isValid(self, s: str) -> bool:\n",
    "        \n",
    "        \n",
    "        stack = []\n",
    "        close = {')':'(', '}':'{', ']':'['}\n",
    "        \n",
    "        try :\n",
    "            for c in s :\n",
    "                if c in ('(', '{', '[') : # 여는 괄호인 경우,\n",
    "                    stack.append(c) # 스택에 삽입\n",
    "                else : # 닫는 괄호인 경우\n",
    "                    if stack.pop() != close[c] :\n",
    "                        return False\n",
    "        except :\n",
    "            return False\n",
    "        return len(stack) == 0"
   ]
  }
 ],
 "metadata": {
  "language_info": {
   "name": "python"
  }
 },
 "nbformat": 4,
 "nbformat_minor": 2
}
