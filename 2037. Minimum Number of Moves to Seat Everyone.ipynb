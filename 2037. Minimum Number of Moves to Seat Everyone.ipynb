{
 "cells": [
  {
   "cell_type": "code",
   "execution_count": null,
   "metadata": {},
   "outputs": [],
   "source": [
    "class Solution:\n",
    "    def minMovesToSeat(self, seats: List[int], students: List[int]) -> int:\n",
    "        n = len(seats)\n",
    "        seats = sorted(seats)\n",
    "        students = sorted(students)\n",
    "        count = 0\n",
    "        for i in range(n):\n",
    "            count += abs(seats[i] - students[i])\n",
    "        return count"
   ]
  }
 ],
 "metadata": {
  "language_info": {
   "name": "python"
  }
 },
 "nbformat": 4,
 "nbformat_minor": 2
}
