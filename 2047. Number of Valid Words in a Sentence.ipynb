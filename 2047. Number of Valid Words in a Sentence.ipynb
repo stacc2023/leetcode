{
 "cells": [
  {
   "cell_type": "code",
   "execution_count": null,
   "metadata": {},
   "outputs": [],
   "source": [
    "class Solution:\n",
    "    def countValidWords(self, sentence: str) -> int:\n",
    "        words = sentence.split()\n",
    "\n",
    "\n",
    "        valid_list = [*range(97,123), 33, 44, 45, 46]\n",
    "\n",
    "        number_valid_word = 0\n",
    "\n",
    "        for word in words:\n",
    "            valid = True\n",
    "            for i, c in enumerate(word):\n",
    "                if ord(c) not in valid_list:\n",
    "                    valid = False\n",
    "                    break\n",
    "                if ord(c) == 45:\n",
    "                    if word.count(c) > 1 or i == 0 or i == len(word) - 1:\n",
    "                        valid = False\n",
    "                        break\n",
    "                    if ord(word[i-1]) not in range(97, 123) or ord(word[i+1]) not in range(97, 123):\n",
    "                        valid = False\n",
    "                        break\n",
    "                if ord(c) in [33, 44, 46]:\n",
    "                    if i != len(word) - 1:\n",
    "                        valid = False\n",
    "                        break\n",
    "            if valid:\n",
    "                number_valid_word += 1\n",
    "\n",
    "        return number_valid_word"
   ]
  }
 ],
 "metadata": {
  "language_info": {
   "name": "python"
  }
 },
 "nbformat": 4,
 "nbformat_minor": 2
}
