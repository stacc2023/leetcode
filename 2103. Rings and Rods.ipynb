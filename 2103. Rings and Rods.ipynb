{
 "cells": [
  {
   "cell_type": "code",
   "execution_count": null,
   "metadata": {},
   "outputs": [],
   "source": [
    "class Solution:\n",
    "    def countPoints(self, rings: str) -> int:\n",
    "        cnt = 0\n",
    "        dic = defaultdict(set)\n",
    "        for n in range(10):\n",
    "            colors = set()\n",
    "            for i in range(1, len(rings), 2):\n",
    "                if int(rings[i]) == n:\n",
    "                    colors.add(rings[i-1])\n",
    "            if len(colors) == 3:\n",
    "                cnt += 1\n",
    "        return cnt\n",
    "            "
   ]
  }
 ],
 "metadata": {
  "language_info": {
   "name": "python"
  }
 },
 "nbformat": 4,
 "nbformat_minor": 2
}
