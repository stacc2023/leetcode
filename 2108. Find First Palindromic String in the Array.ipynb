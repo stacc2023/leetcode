{
 "cells": [
  {
   "cell_type": "code",
   "execution_count": null,
   "metadata": {},
   "outputs": [],
   "source": [
    "class Solution:\n",
    "    def firstPalindrome(self, words: List[str]) -> str:\n",
    "        for word in words:\n",
    "            l = 0\n",
    "            r = len(word) - 1\n",
    "            flag = True\n",
    "            while l < r:\n",
    "                if word[l] != word[r]:\n",
    "                    flag = False\n",
    "                    break\n",
    "                l += 1\n",
    "                r -= 1\n",
    "            if flag:\n",
    "                return word\n",
    "        return \"\""
   ]
  }
 ],
 "metadata": {
  "language_info": {
   "name": "python"
  }
 },
 "nbformat": 4,
 "nbformat_minor": 2
}
