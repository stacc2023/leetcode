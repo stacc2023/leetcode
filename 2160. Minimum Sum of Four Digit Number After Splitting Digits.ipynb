{
 "cells": [
  {
   "cell_type": "code",
   "execution_count": null,
   "metadata": {},
   "outputs": [],
   "source": [
    "class Solution:\n",
    "    def minimumSum(self, num: int) -> int:\n",
    "        tmp = [int(n) for n in [*str(num)]]\n",
    "\n",
    "        nums = {True: [], False: []}\n",
    "        order = True\n",
    "\n",
    "        while len(tmp):\n",
    "            min_digit = min(tmp)\n",
    "            min_index = tmp.index(min_digit)\n",
    "            nums[order].append(min_digit)\n",
    "            tmp = tmp[:min_index] + tmp[min_index + 1:]\n",
    "            order = not order\n",
    "\n",
    "        return int(''.join([str(i) for i in nums[True]])) + int(''.join([str(i) for i in nums[False]]))"
   ]
  }
 ],
 "metadata": {
  "language_info": {
   "name": "python"
  }
 },
 "nbformat": 4,
 "nbformat_minor": 2
}
