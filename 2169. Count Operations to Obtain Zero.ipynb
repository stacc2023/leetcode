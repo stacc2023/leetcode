{
 "cells": [
  {
   "cell_type": "code",
   "execution_count": null,
   "metadata": {},
   "outputs": [],
   "source": [
    "class Solution:\n",
    "    def countOperations(self, num1: int, num2: int) -> int:\n",
    "        count = 0\n",
    "        while num1 and num2:\n",
    "            if num1 < num2:\n",
    "                num2 -= num1\n",
    "            else:\n",
    "                num1 -= num2\n",
    "            count += 1\n",
    "        return count"
   ]
  }
 ],
 "metadata": {
  "language_info": {
   "name": "python"
  }
 },
 "nbformat": 4,
 "nbformat_minor": 2
}
