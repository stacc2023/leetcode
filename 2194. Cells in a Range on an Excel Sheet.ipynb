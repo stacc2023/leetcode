{
 "cells": [
  {
   "cell_type": "code",
   "execution_count": null,
   "metadata": {},
   "outputs": [],
   "source": [
    "class Solution:\n",
    "    def cellsInRange(self, s: str) -> List[str]:\n",
    "        start, end = s.split(':')\n",
    "        ans = []\n",
    "        for i in range(ord(start[0]), ord(end[0]) + 1):\n",
    "            for j in range(int(start[1]), int(end[1]) + 1):\n",
    "                ans.append(chr(i) + str(j))\n",
    "        return ans"
   ]
  }
 ],
 "metadata": {
  "language_info": {
   "name": "python"
  }
 },
 "nbformat": 4,
 "nbformat_minor": 2
}
