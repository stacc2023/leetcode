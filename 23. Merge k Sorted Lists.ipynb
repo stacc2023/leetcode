{
 "cells": [
  {
   "cell_type": "code",
   "execution_count": null,
   "metadata": {},
   "outputs": [],
   "source": [
    "# Definition for singly-linked list.\n",
    "# class ListNode:\n",
    "#     def __init__(self, val=0, next=None):\n",
    "#         self.val = val\n",
    "#         self.next = next\n",
    "class Solution:\n",
    "    def mergeKLists(self, lists: List[Optional[ListNode]]) -> Optional[ListNode]:\n",
    "        while None in lists:\n",
    "            lists.remove(None)\n",
    "        if len(lists) == 0:\n",
    "            return None\n",
    "        \n",
    "        ans = ListNode()\n",
    "        mainnode = ans\n",
    "        while len(lists):\n",
    "            vals = [node.val for node in lists]\n",
    "            min_val = min(vals)\n",
    "            mainnode.val = min_val\n",
    "            prev = mainnode\n",
    "            mainnode.next = ListNode()\n",
    "            mainnode = mainnode.next\n",
    "            min_index = vals.index(min_val)\n",
    "            node = lists[min_index]\n",
    "            if node.next:\n",
    "                lists[min_index] = node.next\n",
    "            else:\n",
    "                del lists[min_index]\n",
    "        prev.next = None\n",
    "        return ans\n",
    "\n",
    "# better solution: using heapq.heappush, by redefine __eq__, __lt__"
   ]
  }
 ],
 "metadata": {
  "language_info": {
   "name": "python"
  }
 },
 "nbformat": 4,
 "nbformat_minor": 2
}
