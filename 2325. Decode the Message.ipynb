{
 "cells": [
  {
   "cell_type": "code",
   "execution_count": null,
   "metadata": {},
   "outputs": [],
   "source": [
    "a = 'abcdefghijklmnopqrstuvwxyz'\n",
    "class Solution:\n",
    "    def decodeMessage(self, key: str, message: str) -> str:\n",
    "        dic = {}\n",
    "        for k in key:\n",
    "            if k == ' ':\n",
    "                continue\n",
    "            if len(dic.keys()) == 26:\n",
    "                break\n",
    "            if k not in dic:\n",
    "                dic[k] = a[len(dic.keys())]\n",
    "        return ''.join(dic[c] if c in dic else \" \" for c in message)"
   ]
  }
 ],
 "metadata": {
  "language_info": {
   "name": "python"
  }
 },
 "nbformat": 4,
 "nbformat_minor": 2
}
