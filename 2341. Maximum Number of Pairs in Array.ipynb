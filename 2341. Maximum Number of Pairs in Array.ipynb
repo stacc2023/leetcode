{
 "cells": [
  {
   "cell_type": "code",
   "execution_count": null,
   "metadata": {},
   "outputs": [],
   "source": [
    "class Solution:\n",
    "    def numberOfPairs(self, nums: List[int]) -> List[int]:\n",
    "        cnt = [0,0]\n",
    "        for i in list(set(nums)):\n",
    "            cnt[0] += nums.count(i) // 2\n",
    "            cnt[1] += nums.count(i) % 2\n",
    "        return cnt"
   ]
  }
 ],
 "metadata": {
  "language_info": {
   "name": "python"
  }
 },
 "nbformat": 4,
 "nbformat_minor": 2
}
