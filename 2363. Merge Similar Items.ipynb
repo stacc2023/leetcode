{
 "cells": [
  {
   "cell_type": "code",
   "execution_count": null,
   "metadata": {},
   "outputs": [],
   "source": [
    "class Solution:\n",
    "    def mergeSimilarItems(self, items1: List[List[int]], items2: List[List[int]]) -> List[List[int]]:\n",
    "        dic = defaultdict(int)\n",
    "        for i in items1:\n",
    "            dic[i[0]] = i[1]\n",
    "        for i in items2:\n",
    "            dic[i[0]] += i[1]\n",
    "        return sorted(list(dic.items()), key=lambda x: x[0])"
   ]
  }
 ],
 "metadata": {
  "language_info": {
   "name": "python"
  }
 },
 "nbformat": 4,
 "nbformat_minor": 2
}
