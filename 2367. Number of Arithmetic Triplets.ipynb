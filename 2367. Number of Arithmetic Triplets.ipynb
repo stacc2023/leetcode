{
 "cells": [
  {
   "cell_type": "code",
   "execution_count": null,
   "metadata": {},
   "outputs": [],
   "source": [
    "class Solution:\n",
    "    def arithmeticTriplets(self, nums: List[int], diff: int) -> int:\n",
    "        count = 0\n",
    "        for i in range(len(nums)):\n",
    "            try:\n",
    "                index = nums[i+1:].index(nums[i] + diff)\n",
    "                nums[index+1:].index(nums[i] + 2 * diff)\n",
    "                count += 1\n",
    "            except:\n",
    "                continue\n",
    "        return count"
   ]
  }
 ],
 "metadata": {
  "language_info": {
   "name": "python"
  }
 },
 "nbformat": 4,
 "nbformat_minor": 2
}
