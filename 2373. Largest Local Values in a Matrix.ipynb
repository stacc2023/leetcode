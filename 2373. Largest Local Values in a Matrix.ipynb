{
 "cells": [
  {
   "cell_type": "code",
   "execution_count": null,
   "metadata": {},
   "outputs": [],
   "source": [
    "def maxLocal(i, j, grid):\n",
    "    result = 0\n",
    "    for r in range(i, i+3):\n",
    "        for c in range(j, j+3):\n",
    "            result = max(result, grid[r][c])\n",
    "    return result\n",
    "\n",
    "class Solution:\n",
    "    def largestLocal(self, grid: List[List[int]]) -> List[List[int]]:\n",
    "        ans = []\n",
    "        for i in range(len(grid) - 2):\n",
    "            ans.append([0] * (len(grid[0]) - 2))\n",
    "            for j in range(len(grid[0]) - 2):\n",
    "                ans[i][j] = maxLocal(i, j, grid)\n",
    "        return ans"
   ]
  }
 ],
 "metadata": {
  "language_info": {
   "name": "python"
  }
 },
 "nbformat": 4,
 "nbformat_minor": 2
}
