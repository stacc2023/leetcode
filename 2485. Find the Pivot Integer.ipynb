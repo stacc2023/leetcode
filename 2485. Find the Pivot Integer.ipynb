{
 "cells": [
  {
   "cell_type": "code",
   "execution_count": null,
   "metadata": {},
   "outputs": [],
   "source": [
    "class Solution:\n",
    "    def pivotInteger(self, n: int) -> int:\n",
    "        for i in range(1, n+1):\n",
    "            if i*(i+1)/2 == n*(n+1)/2-i*(i-1)/2:\n",
    "                return i\n",
    "        return -1"
   ]
  }
 ],
 "metadata": {
  "language_info": {
   "name": "python"
  }
 },
 "nbformat": 4,
 "nbformat_minor": 2
}
