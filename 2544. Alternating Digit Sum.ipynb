{
 "cells": [
  {
   "cell_type": "code",
   "execution_count": null,
   "metadata": {},
   "outputs": [],
   "source": [
    "class Solution:\n",
    "    def alternateDigitSum(self, n: int) -> int:\n",
    "        s = str(n)\n",
    "        return sum(int(c) for c in s[::2]) - sum(int(c) for c in s[1::2])"
   ]
  }
 ],
 "metadata": {
  "language_info": {
   "name": "python"
  }
 },
 "nbformat": 4,
 "nbformat_minor": 2
}
