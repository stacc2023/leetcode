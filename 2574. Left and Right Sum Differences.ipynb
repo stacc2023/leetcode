{
 "cells": [
  {
   "cell_type": "code",
   "execution_count": null,
   "metadata": {},
   "outputs": [],
   "source": [
    "class Solution:\n",
    "    def leftRightDifference(self, nums: List[int]) -> List[int]:\n",
    "        return [abs(sum(nums[:i]) - sum(nums[i+1:])) for i in range(len(nums))]"
   ]
  }
 ],
 "metadata": {
  "language_info": {
   "name": "python"
  }
 },
 "nbformat": 4,
 "nbformat_minor": 2
}
