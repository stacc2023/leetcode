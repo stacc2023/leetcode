{
 "cells": [
  {
   "cell_type": "code",
   "execution_count": null,
   "metadata": {},
   "outputs": [],
   "source": [
    "class Solution:\n",
    "    def splitNum(self, num: int) -> int:\n",
    "        s = sorted(str(num))\n",
    "        s1 = []\n",
    "        s2 = []\n",
    "        for i, c in enumerate(s):\n",
    "            if i % 2:\n",
    "                s1.append(c)\n",
    "            else:\n",
    "                s2.append(c)\n",
    "        return int(''.join(s1)) + int(''.join(s2))"
   ]
  }
 ],
 "metadata": {
  "language_info": {
   "name": "python"
  }
 },
 "nbformat": 4,
 "nbformat_minor": 2
}
