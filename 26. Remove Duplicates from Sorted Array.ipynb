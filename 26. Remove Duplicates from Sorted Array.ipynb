{
 "cells": [
  {
   "cell_type": "code",
   "execution_count": null,
   "metadata": {},
   "outputs": [],
   "source": [
    "class Solution:\n",
    "    def removeDuplicates(self, nums: List[int]) -> int:\n",
    "        new_nums = sorted(set(nums))\n",
    "        k = len(new_nums)\n",
    "\n",
    "        for i, n in enumerate(new_nums):\n",
    "            nums[i] = n\n",
    "        # for i in range(i+1, len(nums)):\n",
    "        #     nums[i] = None\n",
    "\n",
    "        return k"
   ]
  }
 ],
 "metadata": {
  "language_info": {
   "name": "python"
  }
 },
 "nbformat": 4,
 "nbformat_minor": 2
}
