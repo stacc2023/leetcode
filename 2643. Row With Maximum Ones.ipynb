{
 "cells": [
  {
   "cell_type": "code",
   "execution_count": null,
   "metadata": {},
   "outputs": [],
   "source": [
    "class Solution:\n",
    "    def rowAndMaximumOnes(self, mat: List[List[int]]) -> List[int]:\n",
    "        max_count = [0, 0]\n",
    "        for i, row in enumerate(mat):\n",
    "            if max_count[1] < row.count(1):\n",
    "                max_count = [i, row.count(1)]\n",
    "        return max_count"
   ]
  }
 ],
 "metadata": {
  "language_info": {
   "name": "python"
  }
 },
 "nbformat": 4,
 "nbformat_minor": 2
}
