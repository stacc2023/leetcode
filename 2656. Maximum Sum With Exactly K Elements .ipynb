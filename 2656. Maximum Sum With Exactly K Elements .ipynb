{
 "cells": [
  {
   "cell_type": "code",
   "execution_count": null,
   "metadata": {},
   "outputs": [],
   "source": [
    "class Solution:\n",
    "    def maximizeSum(self, nums: List[int], k: int) -> int:\n",
    "        return int(max(nums) * k + k*(k-1)/2)"
   ]
  }
 ],
 "metadata": {
  "language_info": {
   "name": "python"
  }
 },
 "nbformat": 4,
 "nbformat_minor": 2
}
