{
 "cells": [
  {
   "cell_type": "code",
   "execution_count": null,
   "metadata": {},
   "outputs": [],
   "source": [
    "class Solution:\n",
    "    def makeSmallestPalindrome(self, s: str) -> str:\n",
    "        s = [*s]\n",
    "        for i in range(len(s)//2):\n",
    "            if s[i] != s[len(s) - i - 1]:\n",
    "                least = min(ord(s[i]), ord(s[len(s) - i - 1]))\n",
    "                s[i], s[len(s) - i - 1] = chr(least), chr(least)\n",
    "        return ''.join(s)"
   ]
  }
 ],
 "metadata": {
  "language_info": {
   "name": "python"
  }
 },
 "nbformat": 4,
 "nbformat_minor": 2
}
