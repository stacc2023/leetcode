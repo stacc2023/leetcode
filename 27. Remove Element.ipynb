{
 "cells": [
  {
   "cell_type": "code",
   "execution_count": null,
   "metadata": {},
   "outputs": [],
   "source": [
    "class Solution:\n",
    "    def removeElement(self, nums: List[int], val: int) -> int:\n",
    "        k = 0\n",
    "        tmp = []\n",
    "\n",
    "        for n in nums:\n",
    "            if n != val:\n",
    "                k += 1\n",
    "                tmp.append(n)\n",
    "\n",
    "        for i, n in enumerate(tmp):\n",
    "            nums[i] = n\n",
    "\n",
    "        return k"
   ]
  }
 ],
 "metadata": {
  "language_info": {
   "name": "python"
  }
 },
 "nbformat": 4,
 "nbformat_minor": 2
}
