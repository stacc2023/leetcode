{
 "cells": [
  {
   "cell_type": "code",
   "execution_count": null,
   "metadata": {},
   "outputs": [],
   "source": [
    "class Solution:\n",
    "    def findNonMinOrMax(self, nums: List[int]) -> int:\n",
    "        if len(nums) == 0: return -1\n",
    "        nums.remove(max(nums))\n",
    "        if len(nums) == 0: return -1\n",
    "        nums.remove(min(nums))\n",
    "        return nums[0] if len(nums) else -1"
   ]
  }
 ],
 "metadata": {
  "language_info": {
   "name": "python"
  }
 },
 "nbformat": 4,
 "nbformat_minor": 2
}
