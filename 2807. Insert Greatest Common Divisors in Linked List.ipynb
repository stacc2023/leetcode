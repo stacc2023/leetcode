{
 "cells": [
  {
   "cell_type": "code",
   "execution_count": null,
   "metadata": {},
   "outputs": [],
   "source": [
    "# Definition for singly-linked list.\n",
    "# class ListNode:\n",
    "#     def __init__(self, val=0, next=None):\n",
    "#         self.val = val\n",
    "#         self.next = next\n",
    "\n",
    "def gcd(a, b):\n",
    "    if a % b:\n",
    "        return gcd(b, a % b)\n",
    "    else:\n",
    "        return b \n",
    "\n",
    "class Solution:\n",
    "    def insertGreatestCommonDivisors(self, head: Optional[ListNode]) -> Optional[ListNode]:\n",
    "        current_node = head\n",
    "        current_val = head.val\n",
    "        next_node = head.next\n",
    "        while next_node:\n",
    "            next_val = next_node.val\n",
    "            new_node = ListNode(gcd(current_val, next_val))\n",
    "            current_node.next = new_node\n",
    "            new_node.next = next_node\n",
    "            current_node = next_node\n",
    "            current_val = next_node.val\n",
    "            next_node = next_node.next\n",
    "        return head"
   ]
  }
 ],
 "metadata": {
  "language_info": {
   "name": "python"
  }
 },
 "nbformat": 4,
 "nbformat_minor": 2
}
