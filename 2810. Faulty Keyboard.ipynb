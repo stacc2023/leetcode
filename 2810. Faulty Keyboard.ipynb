{
 "cells": [
  {
   "cell_type": "code",
   "execution_count": null,
   "metadata": {},
   "outputs": [],
   "source": [
    "class Solution:\n",
    "    def finalString(self, s: str) -> str:\n",
    "        ans = ''\n",
    "        for c in s:\n",
    "            if c == 'i':\n",
    "                ans = ans[::-1]\n",
    "            else:\n",
    "                ans += c\n",
    "        return ans"
   ]
  }
 ],
 "metadata": {
  "language_info": {
   "name": "python"
  }
 },
 "nbformat": 4,
 "nbformat_minor": 2
}
