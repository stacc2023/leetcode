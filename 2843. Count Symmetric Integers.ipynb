{
 "cells": [
  {
   "cell_type": "code",
   "execution_count": null,
   "metadata": {},
   "outputs": [],
   "source": [
    "class Solution:\n",
    "    def countSymmetricIntegers(self, low: int, high: int) -> int:\n",
    "        count = 0\n",
    "        for n in range(low, high + 1):\n",
    "            c = str(n)\n",
    "            if len(c) % 2 == 0:\n",
    "                f = c[:len(c)//2]\n",
    "                l = c[len(c)//2:]\n",
    "                f_sum = sum(int(n) for n in f)\n",
    "                l_sum = sum(int(n) for n in l)\n",
    "                if f_sum == l_sum:\n",
    "                    count += 1\n",
    "        return count"
   ]
  }
 ],
 "metadata": {
  "language_info": {
   "name": "python"
  }
 },
 "nbformat": 4,
 "nbformat_minor": 2
}
