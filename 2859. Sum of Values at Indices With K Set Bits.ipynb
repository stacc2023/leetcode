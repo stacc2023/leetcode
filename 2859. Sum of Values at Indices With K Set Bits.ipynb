{
 "cells": [
  {
   "cell_type": "code",
   "execution_count": null,
   "metadata": {},
   "outputs": [],
   "source": [
    "class Solution:\n",
    "    def sumIndicesWithKSetBits(self, nums: List[int], k: int) -> int:\n",
    "        tmp = [bin(n).count('1') == k for n in range(len(nums))]\n",
    "        return sum(nums[int(index)] if boolean else 0 for index, boolean in enumerate(tmp))"
   ]
  }
 ],
 "metadata": {
  "language_info": {
   "name": "python"
  }
 },
 "nbformat": 4,
 "nbformat_minor": 2
}
