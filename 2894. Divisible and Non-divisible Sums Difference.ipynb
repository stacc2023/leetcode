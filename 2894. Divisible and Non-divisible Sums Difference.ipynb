{
 "cells": [
  {
   "cell_type": "code",
   "execution_count": null,
   "metadata": {},
   "outputs": [],
   "source": [
    "class Solution:\n",
    "    def differenceOfSums(self, n: int, m: int) -> int:\n",
    "        num1 = 0\n",
    "        num2 = 0\n",
    "        for i in range(1, n+1):\n",
    "            if i % m:\n",
    "                num1 += i\n",
    "            else:\n",
    "                num2 += i\n",
    "        return num1 - num2"
   ]
  }
 ],
 "metadata": {
  "language_info": {
   "name": "python"
  }
 },
 "nbformat": 4,
 "nbformat_minor": 2
}
