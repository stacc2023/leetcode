{
 "cells": [
  {
   "cell_type": "code",
   "execution_count": null,
   "metadata": {},
   "outputs": [],
   "source": [
    "import numpy as np\n",
    "\n",
    "class Solution:\n",
    "    def findKOr(self, nums: List[int], k: int) -> int:\n",
    "        nums = [[int(c) for c in bin(n)[2:].zfill(31)] for n in nums]\n",
    "        nums = np.array(nums)\n",
    "        return int(''.join(str(1 if n else 0) for n in list(nums.sum(axis=0) // k)), 2)"
   ]
  }
 ],
 "metadata": {
  "language_info": {
   "name": "python"
  }
 },
 "nbformat": 4,
 "nbformat_minor": 2
}
