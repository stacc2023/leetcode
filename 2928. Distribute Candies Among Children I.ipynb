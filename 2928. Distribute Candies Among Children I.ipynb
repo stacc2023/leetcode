{
 "cells": [
  {
   "cell_type": "code",
   "execution_count": null,
   "metadata": {},
   "outputs": [],
   "source": [
    "class Solution:\n",
    "    def distributeCandies(self, n: int, limit: int) -> int:\n",
    "        count = 0\n",
    "        for i in range(n + 1):\n",
    "            if i > limit:\n",
    "                break\n",
    "            for j in range(n - i + 1):\n",
    "                if j > limit:\n",
    "                    break\n",
    "                for k in range(n - i - j + 1):\n",
    "                    if k > limit:\n",
    "                        break\n",
    "                    if i + j + k == n:\n",
    "                        count += 1\n",
    "        return count"
   ]
  }
 ],
 "metadata": {
  "language_info": {
   "name": "python"
  }
 },
 "nbformat": 4,
 "nbformat_minor": 2
}
