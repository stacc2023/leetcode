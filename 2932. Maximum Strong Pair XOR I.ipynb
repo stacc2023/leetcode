{
 "cells": [
  {
   "cell_type": "code",
   "execution_count": null,
   "metadata": {},
   "outputs": [],
   "source": [
    "class Solution:\n",
    "    def maximumStrongPairXor(self, nums: List[int]) -> int:\n",
    "        return max(i^j if abs(i-j) <= min(i,j) else 0 for i in nums for j in nums)"
   ]
  }
 ],
 "metadata": {
  "language_info": {
   "name": "python"
  }
 },
 "nbformat": 4,
 "nbformat_minor": 2
}
