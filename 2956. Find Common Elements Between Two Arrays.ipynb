{
 "cells": [
  {
   "cell_type": "code",
   "execution_count": null,
   "metadata": {},
   "outputs": [],
   "source": [
    "class Solution:\n",
    "    def findIntersectionValues(self, nums1: List[int], nums2: List[int]) -> List[int]:\n",
    "        counts = [0, 0]\n",
    "        for n in nums1:\n",
    "            counts[0] += 1 if n in nums2 else 0\n",
    "        for m in nums2:\n",
    "            counts[1] += 1 if m in nums1 else 0\n",
    "        return counts"
   ]
  }
 ],
 "metadata": {
  "language_info": {
   "name": "python"
  }
 },
 "nbformat": 4,
 "nbformat_minor": 2
}
