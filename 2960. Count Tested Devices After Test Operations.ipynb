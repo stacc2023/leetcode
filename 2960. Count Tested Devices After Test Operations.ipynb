{
 "cells": [
  {
   "cell_type": "code",
   "execution_count": null,
   "metadata": {},
   "outputs": [],
   "source": [
    "import numpy as np\n",
    "class Solution:\n",
    "    def countTestedDevices(self, batteryPercentages: List[int]) -> int:\n",
    "        count = 0\n",
    "        arr = np.array(batteryPercentages)\n",
    "        for i in range(len(arr)):\n",
    "            if arr[i] > 0:\n",
    "                arr = arr - 1\n",
    "                count += 1\n",
    "        return count"
   ]
  }
 ],
 "metadata": {
  "language_info": {
   "name": "python"
  }
 },
 "nbformat": 4,
 "nbformat_minor": 2
}
