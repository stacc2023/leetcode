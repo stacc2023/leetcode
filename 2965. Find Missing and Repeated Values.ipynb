{
 "cells": [
  {
   "cell_type": "code",
   "execution_count": null,
   "metadata": {},
   "outputs": [],
   "source": [
    "class Solution:\n",
    "    def findMissingAndRepeatedValues(self, grid: List[List[int]]) -> List[int]:\n",
    "        ans = [0, 0]\n",
    "        for n in range(1, len(grid)**2 + 1):\n",
    "            count = 0\n",
    "            for row in grid:\n",
    "                count += row.count(n)\n",
    "            if count == 0:\n",
    "                ans[1] = n\n",
    "            if count > 1:\n",
    "                ans[0] = n\n",
    "        return ans"
   ]
  }
 ],
 "metadata": {
  "language_info": {
   "name": "python"
  }
 },
 "nbformat": 4,
 "nbformat_minor": 2
}
