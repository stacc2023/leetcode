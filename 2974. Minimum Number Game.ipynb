{
 "cells": [
  {
   "cell_type": "code",
   "execution_count": null,
   "metadata": {},
   "outputs": [],
   "source": [
    "import numpy as np\n",
    "\n",
    "class Solution:\n",
    "    def numberGame(self, nums: List[int]) -> List[int]:\n",
    "        arr = []\n",
    "        while len(nums):\n",
    "            inf1 = min(nums)\n",
    "            nums.remove(inf1)\n",
    "            inf2 = min(nums)\n",
    "            nums.remove(inf2)\n",
    "            arr = arr + [inf2, inf1]\n",
    "        return arr"
   ]
  }
 ],
 "metadata": {
  "language_info": {
   "name": "python"
  }
 },
 "nbformat": 4,
 "nbformat_minor": 2
}
