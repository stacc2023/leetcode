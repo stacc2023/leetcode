{
 "cells": [
  {
   "cell_type": "code",
   "execution_count": null,
   "metadata": {},
   "outputs": [],
   "source": [
    "class Solution:\n",
    "    def lengthOfLongestSubstring(self, s: str) -> int:\n",
    "\n",
    "        if len(s) == 0 : return 0\n",
    "        if len(s) == 1 : return 1\n",
    "\n",
    "        i = 0\n",
    "        j = 0\n",
    "        l = 1\n",
    "        longest = 0\n",
    "        stop = False\n",
    "\n",
    "        while True :\n",
    "            if stop : break\n",
    "            while True :\n",
    "                if s[i+1+j] not in s[i:i+1+j] :\n",
    "                    l = l + 1\n",
    "                    j = j + 1\n",
    "                    if i+1+j >= len(s) : \n",
    "                        if longest < l :\n",
    "                            longest = l\n",
    "                        stop = True\n",
    "                        break\n",
    "                else :\n",
    "                    if longest < l :\n",
    "                        longest = l\n",
    "                    i = i + 1\n",
    "                    j = 0\n",
    "                    l = 1\n",
    "                    if i+1+j >= len(s) : \n",
    "                        if longest < l :\n",
    "                            longest = l\n",
    "                        stop = True\n",
    "                    break\n",
    "        return longest\n",
    "                        "
   ]
  }
 ],
 "metadata": {
  "language_info": {
   "name": "python"
  }
 },
 "nbformat": 4,
 "nbformat_minor": 2
}
