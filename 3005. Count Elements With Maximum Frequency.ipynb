{
 "cells": [
  {
   "cell_type": "code",
   "execution_count": null,
   "metadata": {},
   "outputs": [],
   "source": [
    "class Solution:\n",
    "    def maxFrequencyElements(self, nums: List[int]) -> int:\n",
    "        tmp = [nums.count(n) for n in nums]\n",
    "        max_tmp = max(tmp)\n",
    "        count_tmp = tmp.count(max_tmp)\n",
    "        return count_tmp"
   ]
  }
 ],
 "metadata": {
  "language_info": {
   "name": "python"
  }
 },
 "nbformat": 4,
 "nbformat_minor": 2
}
