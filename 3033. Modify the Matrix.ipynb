{
 "cells": [
  {
   "cell_type": "code",
   "execution_count": null,
   "metadata": {},
   "outputs": [],
   "source": [
    "class Solution:\n",
    "    def modifiedMatrix(self, matrix: List[List[int]]) -> List[List[int]]:\n",
    "        m = len(matrix)\n",
    "        n = len(matrix[0])\n",
    "\n",
    "        for row in matrix:\n",
    "            for col_index, num in enumerate(row):\n",
    "                if num == -1:\n",
    "                    row[col_index] = max([matrix[row_index][col_index] for row_index in range(m)])\n",
    "\n",
    "        return matrix"
   ]
  }
 ],
 "metadata": {
  "language_info": {
   "name": "python"
  }
 },
 "nbformat": 4,
 "nbformat_minor": 2
}
