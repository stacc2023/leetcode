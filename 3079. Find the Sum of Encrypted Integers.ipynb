{
 "cells": [
  {
   "cell_type": "code",
   "execution_count": null,
   "metadata": {},
   "outputs": [],
   "source": [
    "class Solution:\n",
    "    def sumOfEncryptedInt(self, nums: List[int]) -> int:\n",
    "        ans = 0\n",
    "        for n in nums:\n",
    "            c = str(n)\n",
    "            max_c = max(int(n) for n in c)\n",
    "            ans += int(str(max_c) * len(c))\n",
    "        return ans"
   ]
  }
 ],
 "metadata": {
  "language_info": {
   "name": "python"
  }
 },
 "nbformat": 4,
 "nbformat_minor": 2
}
