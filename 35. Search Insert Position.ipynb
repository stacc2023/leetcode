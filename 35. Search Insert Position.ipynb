{
 "cells": [
  {
   "cell_type": "code",
   "execution_count": null,
   "metadata": {},
   "outputs": [],
   "source": [
    "class Solution:\n",
    "    def searchInsert(self, nums: List[int], target: int) -> int:\n",
    "        N = len(nums) // 2\n",
    "        ans = N\n",
    "        while True:\n",
    "            if nums[ans] == target:\n",
    "                return ans\n",
    "            else:\n",
    "                if ans > 0 and ans < len(nums) - 1:\n",
    "                    if nums[ans] < target and nums[ans+1] > target:\n",
    "                        return ans + 1\n",
    "                if ans == 0:\n",
    "                    if nums[ans] > target:\n",
    "                        print(1)\n",
    "                        return 0\n",
    "                    elif len(nums) > 1 and nums[0] < target and nums[1] > target:\n",
    "                        print(2)\n",
    "                        return 1\n",
    "                if ans == len(nums) - 1:\n",
    "                    if nums[ans] < target:\n",
    "                        print(3)\n",
    "                        return ans + 1\n",
    "                    elif len(nums) > 1 and nums[len(nums) - 2] < target and nums[len(nums) - 1] > target:\n",
    "                        print(4)\n",
    "                        return ans\n",
    "            N = N // 2\n",
    "            if nums[ans] > target:\n",
    "                ans = ans - N if N else ans - 1\n",
    "            elif nums[ans] < target:\n",
    "                ans = ans + N if N else ans + 1"
   ]
  }
 ],
 "metadata": {
  "language_info": {
   "name": "python"
  }
 },
 "nbformat": 4,
 "nbformat_minor": 2
}
