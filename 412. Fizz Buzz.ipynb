{
 "cells": [
  {
   "cell_type": "code",
   "execution_count": null,
   "metadata": {},
   "outputs": [],
   "source": [
    "class Solution:\n",
    "    def fizzBuzz(self, n: int) -> List[str]:\n",
    "        ans = []\n",
    "        for i in range(1, n+1):\n",
    "            if i % 3 and i % 5:\n",
    "                ans.append(str(i))\n",
    "            if i % 3 and i % 5 == 0:\n",
    "                ans.append(\"Buzz\")\n",
    "            if i % 3 == 0 and i % 5:\n",
    "                ans.append(\"Fizz\")\n",
    "            if i % 3 == 0 and i % 5 == 0:\n",
    "                ans.append(\"FizzBuzz\")\n",
    "        return ans"
   ]
  }
 ],
 "metadata": {
  "language_info": {
   "name": "python"
  }
 },
 "nbformat": 4,
 "nbformat_minor": 2
}
