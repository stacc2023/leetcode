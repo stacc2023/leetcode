{
 "cells": [
  {
   "cell_type": "code",
   "execution_count": null,
   "metadata": {},
   "outputs": [],
   "source": [
    "class Solution:\n",
    "    def longestPalindrome(self, s: str) -> str:\n",
    "        wide = 1\n",
    "        word = \"\"\n",
    "\n",
    "        #odd\n",
    "        for index, c in enumerate(s):\n",
    "            while True:\n",
    "                #Check out of range\n",
    "                if index - wide < 0 or index + wide >= len(s):\n",
    "                    new_word = s[index - wide + 1 : index + wide]\n",
    "                    if len(new_word) > len(word):\n",
    "                        word = new_word\n",
    "                    wide = 1\n",
    "                    break\n",
    "                #Check character difference\n",
    "                if s[index - wide] != s[index + wide]:\n",
    "                    new_word = s[index - wide + 1 : index + wide]\n",
    "                    if len(new_word) > len(word):\n",
    "                        word = new_word\n",
    "                    wide = 1\n",
    "                    break\n",
    "                wide = wide + 1\n",
    "        #even\n",
    "        for index, c in enumerate(s):\n",
    "            while True:\n",
    "                if index - wide + 1 < 0 or index + wide >= len(s):\n",
    "                    if wide == 1:\n",
    "                        new_word = c\n",
    "                    else:\n",
    "                        new_word = s[index - wide + 2 : index + wide]\n",
    "                    if len(new_word) > len(word):\n",
    "                        word = new_word\n",
    "                    wide = 1\n",
    "                    break\n",
    "                # Check same\n",
    "                if s[index - wide + 1] != s[index + wide]:\n",
    "                    if wide == 1:\n",
    "                        new_word = c\n",
    "                    else:\n",
    "                        new_word = s[index - wide + 2 : index + wide]\n",
    "                        wide = 1\n",
    "                    if len(new_word) > len(word):\n",
    "                        word = new_word\n",
    "                    wide = 1\n",
    "                    break\n",
    "                wide = wide + 1\n",
    "        return word"
   ]
  }
 ],
 "metadata": {
  "language_info": {
   "name": "python"
  }
 },
 "nbformat": 4,
 "nbformat_minor": 2
}
