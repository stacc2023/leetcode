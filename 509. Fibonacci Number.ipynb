{
 "cells": [
  {
   "cell_type": "code",
   "execution_count": null,
   "metadata": {},
   "outputs": [],
   "source": [
    "class Solution:\n",
    "    def fib(self, n: int) -> int:\n",
    "        ans = 0\n",
    "        nxt = 1\n",
    "        while n:\n",
    "            n -= 1\n",
    "            tmp = ans + nxt\n",
    "            ans = nxt\n",
    "            nxt = tmp\n",
    "        return ans"
   ]
  }
 ],
 "metadata": {
  "language_info": {
   "name": "python"
  }
 },
 "nbformat": 4,
 "nbformat_minor": 2
}
