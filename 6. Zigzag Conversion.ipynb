{
 "cells": [
  {
   "cell_type": "code",
   "execution_count": null,
   "metadata": {},
   "outputs": [],
   "source": [
    "class Solution:\n",
    "    def convert(self, s: str, numRows: int) -> str:\n",
    "        word = []\n",
    "        unit = 1 if numRows == 1 else 2 * numRows - 2\n",
    "\n",
    "        for i in range(unit // 2 + 1):\n",
    "            for j in range(len(s)):\n",
    "                if j % unit == i or j % unit == unit - i:\n",
    "                    word.append(s[j])\n",
    "        return ''.join(word)"
   ]
  }
 ],
 "metadata": {
  "language_info": {
   "name": "python"
  }
 },
 "nbformat": 4,
 "nbformat_minor": 2
}
