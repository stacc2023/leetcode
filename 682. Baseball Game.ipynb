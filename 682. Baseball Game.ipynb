{
 "cells": [
  {
   "cell_type": "code",
   "execution_count": null,
   "metadata": {},
   "outputs": [],
   "source": [
    "class Solution:\n",
    "    def calPoints(self, operations: List[str]) -> int:\n",
    "        ans = []\n",
    "        for n in operations:\n",
    "            if n == 'C':\n",
    "                ans.pop()\n",
    "            elif n == 'D':\n",
    "                ans.append(ans[-1] * 2)\n",
    "            elif n == '+':\n",
    "                ans.append(ans[-1] + ans[-2])\n",
    "            else:\n",
    "                ans.append(int(n))\n",
    "        return sum(ans)"
   ]
  }
 ],
 "metadata": {
  "language_info": {
   "name": "python"
  }
 },
 "nbformat": 4,
 "nbformat_minor": 2
}
