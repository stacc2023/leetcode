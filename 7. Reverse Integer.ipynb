{
 "cells": [
  {
   "cell_type": "code",
   "execution_count": null,
   "metadata": {},
   "outputs": [],
   "source": [
    "class Solution:\n",
    "    def reverse(self, x: int) -> int:\n",
    "        x = int(str(x)[::-1]) if x >= 0 else -int(str(x)[:0:-1])\n",
    "\n",
    "        if x > 2**31 - 1 or x < -2**31:\n",
    "            x = 0\n",
    "\n",
    "        return x"
   ]
  }
 ],
 "metadata": {
  "language_info": {
   "name": "python"
  }
 },
 "nbformat": 4,
 "nbformat_minor": 2
}
