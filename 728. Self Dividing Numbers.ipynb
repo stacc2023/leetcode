{
 "cells": [
  {
   "cell_type": "code",
   "execution_count": null,
   "metadata": {},
   "outputs": [],
   "source": [
    "class Solution:\n",
    "    def selfDividingNumbers(self, left: int, right: int) -> List[int]:\n",
    "        ans = []\n",
    "        for n in range(left, right+1):\n",
    "            digits = str(n)\n",
    "            flag = True\n",
    "            for digit in digits:\n",
    "                if int(digit) == 0 or n % int(digit):\n",
    "                    flag = False\n",
    "                    break\n",
    "            if flag:\n",
    "                ans.append(n)\n",
    "        return ans\n",
    "                "
   ]
  }
 ],
 "metadata": {
  "language_info": {
   "name": "python"
  }
 },
 "nbformat": 4,
 "nbformat_minor": 2
}
