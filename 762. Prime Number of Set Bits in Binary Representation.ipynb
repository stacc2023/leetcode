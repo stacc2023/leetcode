{
 "cells": [
  {
   "cell_type": "code",
   "execution_count": null,
   "metadata": {},
   "outputs": [],
   "source": [
    "class Solution:\n",
    "    def countPrimeSetBits(self, left: int, right: int) -> int:\n",
    "        count = 0\n",
    "        for i in range(left, right+1):\n",
    "            n = bin(i).count('1')\n",
    "            flag = True\n",
    "            for j in range(2, int(math.sqrt(n))+1):\n",
    "                if n % j == 0:\n",
    "                    flag = False\n",
    "                    break\n",
    "            if flag and n != 1:\n",
    "                count += 1\n",
    "        return count\n",
    "\n",
    "    # number.bit_count()"
   ]
  }
 ],
 "metadata": {
  "language_info": {
   "name": "python"
  }
 },
 "nbformat": 4,
 "nbformat_minor": 2
}
