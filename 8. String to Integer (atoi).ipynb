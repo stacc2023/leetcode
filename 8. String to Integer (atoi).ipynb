{
 "cells": [
  {
   "cell_type": "code",
   "execution_count": null,
   "metadata": {},
   "outputs": [],
   "source": [
    "class Solution:\n",
    "    def myAtoi(self, s: str) -> int:\n",
    "\n",
    "        s = s.split()\n",
    "\n",
    "        if len(s) == 0:\n",
    "            return 0\n",
    "\n",
    "        for i, c in enumerate(s[0]):\n",
    "            if i == 0:\n",
    "                if ord(c) not in [43,45,48,49,50,51,52,53,54,55,56,57]:\n",
    "                    return 0\n",
    "                continue\n",
    "\n",
    "            if ord(c) not in [48,49,50,51,52,53,54,55,56,57]:\n",
    "                i = i - 1\n",
    "                break\n",
    "        w = s[0][:i + 1]\n",
    "        if w.isdigit() or (len(w) > 0  and w[1:].isdigit()):\n",
    "            n = int(w)\n",
    "        else:\n",
    "            return 0\n",
    "\n",
    "\n",
    "        if n > 2**31 - 1:\n",
    "            n = 2**31 - 1\n",
    "        if n < -2**31:\n",
    "            n = -2**31\n",
    "\n",
    "        return n"
   ]
  }
 ],
 "metadata": {
  "language_info": {
   "name": "python"
  }
 },
 "nbformat": 4,
 "nbformat_minor": 2
}
