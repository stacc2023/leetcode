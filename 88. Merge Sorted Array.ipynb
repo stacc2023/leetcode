{
 "cells": [
  {
   "cell_type": "code",
   "execution_count": null,
   "metadata": {},
   "outputs": [],
   "source": [
    "class Solution:\n",
    "    def merge(self, nums1: List[int], m: int, nums2: List[int], n: int) -> None:\n",
    "        \"\"\"\n",
    "        Do not return anything, modify nums1 in-place instead.\n",
    "        \"\"\"\n",
    "        nums3 = []\n",
    "        for i in range(m):\n",
    "            nums3.append(nums1[i])\n",
    "        for i in range(n):\n",
    "            nums3.append(nums2[i]) \n",
    "        for i, n in enumerate(sorted(nums3)):\n",
    "            nums1[i] = n"
   ]
  }
 ],
 "metadata": {
  "language_info": {
   "name": "python"
  }
 },
 "nbformat": 4,
 "nbformat_minor": 2
}
