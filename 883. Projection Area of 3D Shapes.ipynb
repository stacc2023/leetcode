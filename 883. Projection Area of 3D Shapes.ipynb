{
 "cells": [
  {
   "cell_type": "code",
   "execution_count": null,
   "metadata": {},
   "outputs": [],
   "source": [
    "class Solution:\n",
    "    def projectionArea(self, grid: List[List[int]]) -> int:\n",
    "        area = 0\n",
    "        #위에서\n",
    "        #옆에서\n",
    "        for row in grid:\n",
    "            for col in row:\n",
    "                if col:\n",
    "                    area += 1\n",
    "            area += max(row)\n",
    "        #앞에서\n",
    "        for col in zip(*grid):\n",
    "            area += max(col)\n",
    "        return area"
   ]
  }
 ],
 "metadata": {
  "language_info": {
   "name": "python"
  }
 },
 "nbformat": 4,
 "nbformat_minor": 2
}
