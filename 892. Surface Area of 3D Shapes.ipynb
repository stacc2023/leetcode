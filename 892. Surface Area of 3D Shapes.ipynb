{
 "cells": [
  {
   "cell_type": "code",
   "execution_count": null,
   "metadata": {},
   "outputs": [],
   "source": [
    "class Solution:\n",
    "    def surfaceArea(self, grid: List[List[int]]) -> int:\n",
    "        count = 0\n",
    "        for r in range(len(grid)):\n",
    "            for c in range(len(grid[r])):\n",
    "                height = grid[r][c]\n",
    "                for h in range(1, height+1):\n",
    "                    # 왼쪽 겉면\n",
    "                    if r == 0:\n",
    "                        count += 1\n",
    "                    elif h > grid[r-1][c]:\n",
    "                        count += 1\n",
    "                    # 오른쪽 겉면\n",
    "                    if r == len(grid) - 1:\n",
    "                        count += 1\n",
    "                    elif h > grid[r+1][c]:\n",
    "                        count += 1\n",
    "                    # 북쪽 겉면\n",
    "                    if c == 0:\n",
    "                        count += 1\n",
    "                    elif h > grid[r][c-1]:\n",
    "                        count += 1\n",
    "                    # 남쪽 겉면\n",
    "                    if c == len(grid[r]) - 1:\n",
    "                        count += 1\n",
    "                    elif h > grid[r][c+1]:\n",
    "                        count += 1\n",
    "                    # 위쪽 겉면\n",
    "                    if h == height:\n",
    "                        count += 1\n",
    "                    # 아래쪽 겉면\n",
    "                    if h == 1:\n",
    "                        count += 1\n",
    "        return count"
   ]
  }
 ],
 "metadata": {
  "language_info": {
   "name": "python"
  }
 },
 "nbformat": 4,
 "nbformat_minor": 2
}
