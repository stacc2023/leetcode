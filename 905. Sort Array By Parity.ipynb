{
 "cells": [
  {
   "cell_type": "code",
   "execution_count": null,
   "metadata": {},
   "outputs": [],
   "source": [
    "class Solution:\n",
    "    def sortArrayByParity(self, nums: List[int]) -> List[int]:\n",
    "        even = []\n",
    "        odd = []\n",
    "        for n in nums:\n",
    "            if n % 2:\n",
    "                odd.append(n)\n",
    "            else:\n",
    "                even.append(n)\n",
    "        return even + odd"
   ]
  }
 ],
 "metadata": {
  "language_info": {
   "name": "python"
  }
 },
 "nbformat": 4,
 "nbformat_minor": 2
}
