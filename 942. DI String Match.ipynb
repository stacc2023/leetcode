{
 "cells": [
  {
   "cell_type": "code",
   "execution_count": null,
   "metadata": {},
   "outputs": [],
   "source": [
    "class Solution:\n",
    "    def diStringMatch(self, s: str) -> List[int]:\n",
    "        ans = [*range(len(s)+1)]\n",
    "        flag = True\n",
    "        while flag:\n",
    "            flag = False    \n",
    "            for i, n in enumerate(s):\n",
    "                if n == 'I' and ans[i] > ans[i+1]:\n",
    "                    ans[i], ans[i+1] = ans[i+1], ans[i]\n",
    "                    flag = True\n",
    "                if n == 'D' and ans[i] < ans[i+1]:\n",
    "                    ans[i], ans[i+1] = ans[i+1], ans[i]\n",
    "                    flag = True\n",
    "        return ans"
   ]
  }
 ],
 "metadata": {
  "language_info": {
   "name": "python"
  }
 },
 "nbformat": 4,
 "nbformat_minor": 2
}
